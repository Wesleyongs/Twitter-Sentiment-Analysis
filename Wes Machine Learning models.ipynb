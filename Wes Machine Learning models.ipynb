{
 "cells": [
  {
   "cell_type": "markdown",
   "metadata": {},
   "source": [
    "# 1. Data pre-processing"
   ]
  },
  {
   "cell_type": "code",
   "execution_count": 1,
   "metadata": {
    "ExecuteTime": {
     "end_time": "2021-04-09T07:41:33.281304Z",
     "start_time": "2021-04-09T07:41:29.868935Z"
    },
    "code_folding": []
   },
   "outputs": [
    {
     "data": {
      "text/html": [
       "        <script type=\"text/javascript\">\n",
       "        window.PlotlyConfig = {MathJaxConfig: 'local'};\n",
       "        if (window.MathJax) {MathJax.Hub.Config({SVG: {font: \"STIX-Web\"}});}\n",
       "        if (typeof require !== 'undefined') {\n",
       "        require.undef(\"plotly\");\n",
       "        requirejs.config({\n",
       "            paths: {\n",
       "                'plotly': ['https://cdn.plot.ly/plotly-latest.min']\n",
       "            }\n",
       "        });\n",
       "        require(['plotly'], function(Plotly) {\n",
       "            window._Plotly = Plotly;\n",
       "        });\n",
       "        }\n",
       "        </script>\n",
       "        "
      ]
     },
     "metadata": {},
     "output_type": "display_data"
    }
   ],
   "source": [
    "#Imports\n",
    "\n",
    "import matplotlib.pyplot as plt\n",
    "import seaborn as sns\n",
    "color = sns.color_palette()\n",
    "%matplotlib inline\n",
    "import plotly.offline as py\n",
    "py.init_notebook_mode(connected=True)\n",
    "import plotly.graph_objs as go\n",
    "import plotly.tools as tls\n",
    "import plotly.express as px\n",
    "import pandas as pd\n",
    "import numpy as np\n",
    "from sklearn.metrics import classification_report, confusion_matrix, accuracy_score\n",
    "import pickle"
   ]
  },
  {
   "cell_type": "code",
   "execution_count": null,
   "metadata": {},
   "outputs": [],
   "source": [
    "# Helper functions\n",
    "\n",
    "\n",
    "#1 convert -1,0,1 to negative positive and neutral\n",
    "def sentiment_text(x):\n",
    "    if x == -1.0:\n",
    "        return 'Negative'\n",
    "    elif x == 0.0:\n",
    "        return \"Neutral\"\n",
    "    elif x == 1:\n",
    "        return \"Positive\"\n",
    "\n",
    "\n",
    "#2 Test the model on the unseen dataset\n",
    "def test_model(text_classifier):\n",
    "    predictions = text_classifier.predict(processed_test_features)\n",
    "    print(confusion_matrix(test_labels, predictions))\n",
    "    print(classification_report(test_labels, predictions))\n",
    "    print(\"Accuracy Score on the unlabeled data is: \",\n",
    "          accuracy_score(test_labels, predictions))\n",
    "\n",
    "\n",
    "#3 function to save it inside pickle file\n",
    "def save_model(text_classifier, X_train, y_train, file_name):\n",
    "    tuple_objects = (text_classifier, X_train, y_train)\n",
    "    # Save tuple\n",
    "    pickle.dump(tuple_objects, open(file_name, 'wb'))"
   ]
  },
  {
   "cell_type": "code",
   "execution_count": 2,
   "metadata": {
    "ExecuteTime": {
     "end_time": "2021-04-09T07:41:33.644927Z",
     "start_time": "2021-04-09T07:41:33.282302Z"
    },
    "code_folding": []
   },
   "outputs": [
    {
     "name": "stderr",
     "output_type": "stream",
     "text": [
      "C:\\Users\\Razer\\anaconda3\\lib\\site-packages\\pandas\\core\\generic.py:5168: SettingWithCopyWarning:\n",
      "\n",
      "\n",
      "A value is trying to be set on a copy of a slice from a DataFrame.\n",
      "Try using .loc[row_indexer,col_indexer] = value instead\n",
      "\n",
      "See the caveats in the documentation: https://pandas.pydata.org/pandas-docs/stable/user_guide/indexing.html#returning-a-view-versus-a-copy\n",
      "\n"
     ]
    }
   ],
   "source": [
    "#Importing Train data\n",
    "df = pd.read_csv('Twitter_Data.csv')\n",
    "\n",
    "#slicing the data set because its too big\n",
    "df_train = df.iloc[:13871] \n",
    "\n",
    "#labeling the labels\n",
    "df_train.category = df_train.category.apply(sentiment_text)\n",
    "\n",
    "#Train labels and features\n",
    "labels = df_train.iloc[:, 1].values\n",
    "features = df_train.iloc[:, 0].values\n",
    "\n",
    "\n",
    "#Test labels and features\n",
    "df_test = pd.read_csv('test_data.csv')\n",
    "test_labels = df_test['Answer']\n",
    "test_features = df_test['Stemmed Tweets']\n",
    "\n",
    "#Combined the features together so that can perform vectorisation and data preperation\n",
    "combined_features = np.hstack((features,test_features))"
   ]
  },
  {
   "cell_type": "code",
   "execution_count": 4,
   "metadata": {
    "ExecuteTime": {
     "end_time": "2021-04-09T07:41:42.625380Z",
     "start_time": "2021-04-09T07:41:33.680452Z"
    },
    "code_folding": []
   },
   "outputs": [
    {
     "name": "stderr",
     "output_type": "stream",
     "text": [
      "[nltk_data] Downloading package punkt to\n",
      "[nltk_data]     C:\\Users\\Razer\\AppData\\Roaming\\nltk_data...\n",
      "[nltk_data]   Package punkt is already up-to-date!\n",
      "[nltk_data] Downloading package stopwords to\n",
      "[nltk_data]     C:\\Users\\Razer\\AppData\\Roaming\\nltk_data...\n",
      "[nltk_data]   Package stopwords is already up-to-date!\n"
     ]
    }
   ],
   "source": [
    "#Clean the features AKA the texts \n",
    "\n",
    "import nltk\n",
    "nltk.download('punkt')\n",
    "nltk.download('stopwords')\n",
    "from nltk.corpus import stopwords\n",
    "import re\n",
    "from nltk.stem import PorterStemmer\n",
    "from nltk.stem import LancasterStemmer\n",
    "from nltk.tokenize import sent_tokenize, word_tokenize\n",
    "from nltk.stem import WordNetLemmatizer\n",
    "wordnet_lemmatizer = WordNetLemmatizer()\n",
    "\n",
    "porter = PorterStemmer()\n",
    "lancaster=LancasterStemmer()\n",
    "\n",
    "def stemSentence(sentence):\n",
    "    token_words=word_tokenize(sentence)\n",
    "    token_words\n",
    "    stem_sentence=[]\n",
    "    for word in token_words:\n",
    "        stem_sentence.append(porter.stem(word))\n",
    "        stem_sentence.append(\" \")\n",
    "    return \"\".join(stem_sentence)\n",
    "\n",
    "processed_features = []\n",
    "\n",
    "for sentence in range(0, len(combined_features)):\n",
    "    # Remove all the special characters\n",
    "    processed_feature = re.sub(r'\\W', ' ', str(combined_features[sentence]))\n",
    "\n",
    "    # remove all single characters\n",
    "    processed_feature= re.sub(r'\\s+[a-zA-Z]\\s+', ' ', processed_feature)\n",
    "\n",
    "    # Remove single characters from the start\n",
    "    processed_feature = re.sub(r'\\^[a-zA-Z]\\s+', ' ', processed_feature) \n",
    "\n",
    "    # Substituting multiple spaces with single space\n",
    "    processed_feature = re.sub(r'\\s+', ' ', processed_feature, flags=re.I)\n",
    "\n",
    "    # Removing prefixed 'b'\n",
    "    processed_feature = re.sub(r'^b\\s+', '', processed_feature)\n",
    "\n",
    "    # Converting to Lowercase\n",
    "    processed_feature = processed_feature.lower()\n",
    "    \n",
    "    #stem it\n",
    "    processed_feature = stemSentence(processed_feature)\n",
    "\n",
    "    processed_features.append(processed_feature)\n",
    "    \n",
    "# remove stopwards and tokenize. Keep only the top 2321 most occuring words    \n",
    "from nltk.corpus import stopwords\n",
    "from sklearn.feature_extraction.text import TfidfVectorizer\n",
    "\n",
    "vectorizer = TfidfVectorizer (max_features=5000, min_df=7, max_df=0.8, stop_words=stopwords.words('english'))\n",
    "processed_features = vectorizer.fit_transform(processed_features).toarray()"
   ]
  },
  {
   "cell_type": "code",
   "execution_count": 5,
   "metadata": {
    "ExecuteTime": {
     "end_time": "2021-04-09T07:41:42.856322Z",
     "start_time": "2021-04-09T07:41:42.626346Z"
    }
   },
   "outputs": [],
   "source": [
    "#Earlier we processed both data sets together, now we split them back up\n",
    "processed_train_features = processed_features[:13871]\n",
    "processed_test_features = processed_features[13871:]\n",
    "\n",
    "#Training and test\n",
    "from sklearn.model_selection import train_test_split\n",
    "X_train, X_test, y_train, y_test = train_test_split(processed_train_features, labels, test_size=0.01, random_state=0)"
   ]
  },
  {
   "cell_type": "markdown",
   "metadata": {},
   "source": [
    "# 2. RandomForest"
   ]
  },
  {
   "cell_type": "code",
   "execution_count": 6,
   "metadata": {
    "ExecuteTime": {
     "end_time": "2021-04-09T07:45:22.675704Z",
     "start_time": "2021-04-09T07:41:42.857322Z"
    },
    "scrolled": true
   },
   "outputs": [
    {
     "name": "stdout",
     "output_type": "stream",
     "text": [
      "[[23  5  8]\n",
      " [ 3 35  7]\n",
      " [ 3  8 47]]\n",
      "              precision    recall  f1-score   support\n",
      "\n",
      "    Negative       0.79      0.64      0.71        36\n",
      "     Neutral       0.73      0.78      0.75        45\n",
      "    Positive       0.76      0.81      0.78        58\n",
      "\n",
      "    accuracy                           0.76       139\n",
      "   macro avg       0.76      0.74      0.75       139\n",
      "weighted avg       0.76      0.76      0.75       139\n",
      "\n",
      "0.7553956834532374\n"
     ]
    }
   ],
   "source": [
    "from sklearn.ensemble import RandomForestClassifier\n",
    "\n",
    "text_classifier = RandomForestClassifier(n_estimators=200, random_state=0)\n",
    "text_classifier.fit(X_train   , y_train)\n",
    "\n",
    "predictions = text_classifier.predict(X_test)\n",
    "\n",
    "print(confusion_matrix(y_test,predictions))\n",
    "print(classification_report(y_test,predictions))\n",
    "print(accuracy_score(y_test, predictions))\n"
   ]
  },
  {
   "cell_type": "code",
   "execution_count": 7,
   "metadata": {
    "ExecuteTime": {
     "end_time": "2021-04-09T07:45:22.935796Z",
     "start_time": "2021-04-09T07:45:22.677670Z"
    }
   },
   "outputs": [
    {
     "name": "stdout",
     "output_type": "stream",
     "text": [
      "[[ 61 119 120]\n",
      " [ 18 193  89]\n",
      " [  9  62 229]]\n",
      "              precision    recall  f1-score   support\n",
      "\n",
      "    Negative       0.69      0.20      0.31       300\n",
      "     Neutral       0.52      0.64      0.57       300\n",
      "    Positive       0.52      0.76      0.62       300\n",
      "\n",
      "    accuracy                           0.54       900\n",
      "   macro avg       0.58      0.54      0.50       900\n",
      "weighted avg       0.58      0.54      0.50       900\n",
      "\n",
      "0.5366666666666666\n"
     ]
    }
   ],
   "source": [
    "test_model(text_classifier)  "
   ]
  },
  {
   "cell_type": "code",
   "execution_count": 8,
   "metadata": {
    "ExecuteTime": {
     "end_time": "2021-04-09T07:45:24.055080Z",
     "start_time": "2021-04-09T07:45:22.936798Z"
    }
   },
   "outputs": [],
   "source": [
    "#saving the model\n",
    "save_model(text_classifier, X_train, y_train,\"random_forest_GenericTweets_model.pkl\")    \n"
   ]
  },
  {
   "cell_type": "markdown",
   "metadata": {},
   "source": [
    "# 3. Knn"
   ]
  },
  {
   "cell_type": "code",
   "execution_count": 9,
   "metadata": {
    "ExecuteTime": {
     "end_time": "2021-04-09T07:45:25.282425Z",
     "start_time": "2021-04-09T07:45:24.056312Z"
    }
   },
   "outputs": [
    {
     "name": "stdout",
     "output_type": "stream",
     "text": [
      "[[ 6 28  2]\n",
      " [ 1 43  1]\n",
      " [ 1 52  5]]\n",
      "              precision    recall  f1-score   support\n",
      "\n",
      "    Negative       0.75      0.17      0.27        36\n",
      "     Neutral       0.35      0.96      0.51        45\n",
      "    Positive       0.62      0.09      0.15        58\n",
      "\n",
      "    accuracy                           0.39       139\n",
      "   macro avg       0.57      0.40      0.31       139\n",
      "weighted avg       0.57      0.39      0.30       139\n",
      "\n",
      "0.38848920863309355\n",
      "[[  3 294   3]\n",
      " [  0 298   2]\n",
      " [  1 294   5]]\n",
      "              precision    recall  f1-score   support\n",
      "\n",
      "    Negative       0.75      0.01      0.02       300\n",
      "     Neutral       0.34      0.99      0.50       300\n",
      "    Positive       0.50      0.02      0.03       300\n",
      "\n",
      "    accuracy                           0.34       900\n",
      "   macro avg       0.53      0.34      0.18       900\n",
      "weighted avg       0.53      0.34      0.18       900\n",
      "\n",
      "0.34\n"
     ]
    }
   ],
   "source": [
    "from sklearn.neighbors import KNeighborsClassifier\n",
    "\n",
    "text_classifier = KNeighborsClassifier(n_neighbors=1)\n",
    "text_classifier.fit(X_train, y_train)\n",
    "\n",
    "predictions = text_classifier.predict(X_test)\n",
    "\n",
    "from sklearn.metrics import classification_report, confusion_matrix, accuracy_score\n",
    "\n",
    "print(confusion_matrix(y_test,predictions))\n",
    "print(classification_report(y_test,predictions))\n",
    "print(accuracy_score(y_test, predictions))\n",
    "\n",
    "test_model(text_classifier)"
   ]
  },
  {
   "cell_type": "code",
   "execution_count": 10,
   "metadata": {
    "ExecuteTime": {
     "end_time": "2021-04-09T07:45:29.377539Z",
     "start_time": "2021-04-09T07:45:25.284474Z"
    }
   },
   "outputs": [
    {
     "name": "stdout",
     "output_type": "stream",
     "text": [
      "1\n",
      "done with 1\n",
      "2\n",
      "done with 2\n",
      "3\n",
      "done with 3\n",
      "4\n",
      "done with 4\n",
      "5\n",
      "done with 5\n",
      "6\n",
      "done with 6\n",
      "7\n",
      "done with 7\n",
      "8\n",
      "done with 8\n",
      "9\n",
      "done with 9\n",
      "10\n",
      "done with 10\n",
      "11\n",
      "done with 11\n",
      "12\n",
      "done with 12\n",
      "13\n",
      "done with 13\n",
      "14\n",
      "done with 14\n"
     ]
    },
    {
     "data": {
      "text/plain": [
       "Text(0, 0.5, 'Mean Error')"
      ]
     },
     "execution_count": 10,
     "metadata": {},
     "output_type": "execute_result"
    },
    {
     "data": {
      "image/png": "[encoded data removed]",
      "text/plain": [
       "<Figure size 864x432 with 1 Axes>"
      ]
     },
     "metadata": {
      "needs_background": "light"
     },
     "output_type": "display_data"
    }
   ],
   "source": [
    "#Finding best value for neighbours\n",
    "\n",
    "import numpy as np\n",
    "\n",
    "error = []\n",
    "\n",
    "# Calculating error for K values between 1 and 5\n",
    "for i in range(1, 15):\n",
    "    knn = KNeighborsClassifier(n_neighbors=i)\n",
    "    knn.fit(X_train, y_train)\n",
    "    pred_i = knn.predict(X_test)\n",
    "    error.append(np.mean(pred_i != y_test))\n",
    "    \n",
    "plt.figure(figsize=(12, 6))\n",
    "plt.plot(range(1, 15), error, color='red', linestyle='dashed', marker='o',\n",
    "         markerfacecolor='blue', markersize=10)\n",
    "plt.title('Error Rate K Value')\n",
    "plt.xlabel('K Value')\n",
    "plt.ylabel('Mean Error')"
   ]
  },
  {
   "cell_type": "markdown",
   "metadata": {},
   "source": [
    "# 4.1 Linear (simple) SVM (support vector machine)\n"
   ]
  },
  {
   "cell_type": "code",
   "execution_count": 11,
   "metadata": {
    "ExecuteTime": {
     "end_time": "2021-04-09T07:50:00.085408Z",
     "start_time": "2021-04-09T07:45:29.378508Z"
    },
    "scrolled": true
   },
   "outputs": [
    {
     "name": "stdout",
     "output_type": "stream",
     "text": [
      "[[30  2  4]\n",
      " [ 1 39  5]\n",
      " [ 6 11 41]]\n",
      "              precision    recall  f1-score   support\n",
      "\n",
      "    Negative       0.81      0.83      0.82        36\n",
      "     Neutral       0.75      0.87      0.80        45\n",
      "    Positive       0.82      0.71      0.76        58\n",
      "\n",
      "    accuracy                           0.79       139\n",
      "   macro avg       0.79      0.80      0.80       139\n",
      "weighted avg       0.79      0.79      0.79       139\n",
      "\n",
      "0.7913669064748201\n",
      "[[ 66 129 105]\n",
      " [ 17 206  77]\n",
      " [  8  74 218]]\n",
      "              precision    recall  f1-score   support\n",
      "\n",
      "    Negative       0.73      0.22      0.34       300\n",
      "     Neutral       0.50      0.69      0.58       300\n",
      "    Positive       0.55      0.73      0.62       300\n",
      "\n",
      "    accuracy                           0.54       900\n",
      "   macro avg       0.59      0.54      0.51       900\n",
      "weighted avg       0.59      0.54      0.51       900\n",
      "\n",
      "0.5444444444444444\n"
     ]
    }
   ],
   "source": [
    "from sklearn.svm import SVC\n",
    "svclassifier = SVC(kernel='linear')\n",
    "svclassifier.fit(X_train, y_train)\n",
    "\n",
    "y_pred = svclassifier.predict(X_test)\n",
    "from sklearn.metrics import classification_report, confusion_matrix\n",
    "print(confusion_matrix(y_test,y_pred))\n",
    "print(classification_report(y_test,y_pred))\n",
    "print(accuracy_score(y_test, y_pred))\n",
    "\n",
    "test_model(svclassifier)"
   ]
  },
  {
   "cell_type": "markdown",
   "metadata": {},
   "source": [
    "# 4.2 Kernal SVM (Guassian and sigmoid)"
   ]
  },
  {
   "cell_type": "code",
   "execution_count": 12,
   "metadata": {
    "ExecuteTime": {
     "end_time": "2021-04-09T08:08:01.981556Z",
     "start_time": "2021-04-09T07:50:00.086408Z"
    }
   },
   "outputs": [
    {
     "name": "stdout",
     "output_type": "stream",
     "text": [
      "[[ 4  0 32]\n",
      " [ 0  8 37]\n",
      " [ 0  0 58]]\n",
      "              precision    recall  f1-score   support\n",
      "\n",
      "    Negative       1.00      0.11      0.20        36\n",
      "     Neutral       1.00      0.18      0.30        45\n",
      "    Positive       0.46      1.00      0.63        58\n",
      "\n",
      "    accuracy                           0.50       139\n",
      "   macro avg       0.82      0.43      0.38       139\n",
      "weighted avg       0.77      0.50      0.41       139\n",
      "\n",
      "0.5035971223021583\n",
      "[[  0   0 300]\n",
      " [  0   0 300]\n",
      " [  0   0 300]]\n",
      "              precision    recall  f1-score   support\n",
      "\n",
      "    Negative       0.00      0.00      0.00       300\n",
      "     Neutral       0.00      0.00      0.00       300\n",
      "    Positive       0.33      1.00      0.50       300\n",
      "\n",
      "    accuracy                           0.33       900\n",
      "   macro avg       0.11      0.33      0.17       900\n",
      "weighted avg       0.11      0.33      0.17       900\n",
      "\n",
      "0.3333333333333333\n"
     ]
    },
    {
     "name": "stderr",
     "output_type": "stream",
     "text": [
      "C:\\Users\\Razer\\anaconda3\\lib\\site-packages\\sklearn\\metrics\\_classification.py:1245: UndefinedMetricWarning:\n",
      "\n",
      "Precision and F-score are ill-defined and being set to 0.0 in labels with no predicted samples. Use `zero_division` parameter to control this behavior.\n",
      "\n",
      "C:\\Users\\Razer\\anaconda3\\lib\\site-packages\\sklearn\\metrics\\_classification.py:1245: UndefinedMetricWarning:\n",
      "\n",
      "Precision and F-score are ill-defined and being set to 0.0 in labels with no predicted samples. Use `zero_division` parameter to control this behavior.\n",
      "\n",
      "C:\\Users\\Razer\\anaconda3\\lib\\site-packages\\sklearn\\metrics\\_classification.py:1245: UndefinedMetricWarning:\n",
      "\n",
      "Precision and F-score are ill-defined and being set to 0.0 in labels with no predicted samples. Use `zero_division` parameter to control this behavior.\n",
      "\n"
     ]
    }
   ],
   "source": [
    "#Polynomial\n",
    "\n",
    "from sklearn.svm import SVC\n",
    "svclassifier = SVC(kernel='poly', degree=8)\n",
    "svclassifier.fit(X_train, y_train)\n",
    "y_pred = svclassifier.predict(X_test)\n",
    "from sklearn.metrics import classification_report, confusion_matrix\n",
    "print(confusion_matrix(y_test, y_pred))\n",
    "print(classification_report(y_test, y_pred))\n",
    "print(accuracy_score(y_test, y_pred))\n",
    "\n",
    "test_model(svclassifier)\n"
   ]
  },
  {
   "cell_type": "code",
   "execution_count": 13,
   "metadata": {
    "ExecuteTime": {
     "end_time": "2021-04-09T08:19:38.212115Z",
     "start_time": "2021-04-09T08:08:01.982554Z"
    },
    "scrolled": false
   },
   "outputs": [
    {
     "name": "stdout",
     "output_type": "stream",
     "text": [
      "==== rbf ====\n",
      "[[28  4  4]\n",
      " [ 2 39  4]\n",
      " [ 4 12 42]]\n",
      "              precision    recall  f1-score   support\n",
      "\n",
      "    Negative       0.82      0.78      0.80        36\n",
      "     Neutral       0.71      0.87      0.78        45\n",
      "    Positive       0.84      0.72      0.78        58\n",
      "\n",
      "    accuracy                           0.78       139\n",
      "   macro avg       0.79      0.79      0.79       139\n",
      "weighted avg       0.79      0.78      0.78       139\n",
      "\n",
      "0.7841726618705036\n",
      "[[ 48 150 102]\n",
      " [  8 216  76]\n",
      " [  5  76 219]]\n",
      "              precision    recall  f1-score   support\n",
      "\n",
      "    Negative       0.79      0.16      0.27       300\n",
      "     Neutral       0.49      0.72      0.58       300\n",
      "    Positive       0.55      0.73      0.63       300\n",
      "\n",
      "    accuracy                           0.54       900\n",
      "   macro avg       0.61      0.54      0.49       900\n",
      "weighted avg       0.61      0.54      0.49       900\n",
      "\n",
      "0.5366666666666666\n",
      "==== sigmoid ====\n",
      "[[31  2  3]\n",
      " [ 4 36  5]\n",
      " [ 6 12 40]]\n",
      "              precision    recall  f1-score   support\n",
      "\n",
      "    Negative       0.76      0.86      0.81        36\n",
      "     Neutral       0.72      0.80      0.76        45\n",
      "    Positive       0.83      0.69      0.75        58\n",
      "\n",
      "    accuracy                           0.77       139\n",
      "   macro avg       0.77      0.78      0.77       139\n",
      "weighted avg       0.78      0.77      0.77       139\n",
      "\n",
      "0.7697841726618705\n",
      "[[ 69 132  99]\n",
      " [ 14 209  77]\n",
      " [  9  78 213]]\n",
      "              precision    recall  f1-score   support\n",
      "\n",
      "    Negative       0.75      0.23      0.35       300\n",
      "     Neutral       0.50      0.70      0.58       300\n",
      "    Positive       0.55      0.71      0.62       300\n",
      "\n",
      "    accuracy                           0.55       900\n",
      "   macro avg       0.60      0.55      0.52       900\n",
      "weighted avg       0.60      0.55      0.52       900\n",
      "\n",
      "0.5455555555555556\n"
     ]
    }
   ],
   "source": [
    "#Guassian and sigmoid (binary)\n",
    "from sklearn.svm import SVC\n",
    "\n",
    "for i in ['rbf', 'sigmoid']:\n",
    "    print(\"====\", i, '====')\n",
    "    svclassifier = SVC(kernel=i)\n",
    "    svclassifier.fit(X_train, y_train)\n",
    "    y_pred = svclassifier.predict(X_test)\n",
    "    from sklearn.metrics import classification_report, confusion_matrix\n",
    "    print(confusion_matrix(y_test, y_pred))\n",
    "    print(classification_report(y_test, y_pred))\n",
    "    print(accuracy_score(y_test, y_pred))\n",
    "    test_model(svclassifier)"
   ]
  },
  {
   "cell_type": "code",
   "execution_count": null,
   "metadata": {},
   "outputs": [],
   "source": []
  }
 ],
 "metadata": {
  "kernelspec": {
   "display_name": "Python 3",
   "language": "python",
   "name": "python3"
  },
  "language_info": {
   "codemirror_mode": {
    "name": "ipython",
    "version": 3
   },
   "file_extension": ".py",
   "mimetype": "text/x-python",
   "name": "python",
   "nbconvert_exporter": "python",
   "pygments_lexer": "ipython3",
   "version": "3.8.5"
  },
  "toc": {
   "base_numbering": 1,
   "nav_menu": {},
   "number_sections": true,
   "sideBar": true,
   "skip_h1_title": false,
   "title_cell": "Table of Contents",
   "title_sidebar": "Contents",
   "toc_cell": false,
   "toc_position": {},
   "toc_section_display": true,
   "toc_window_display": false
  },
  "varInspector": {
   "cols": {
    "lenName": 16,
    "lenType": 16,
    "lenVar": 40
   },
   "kernels_config": {
    "python": {
     "delete_cmd_postfix": "",
     "delete_cmd_prefix": "del ",
     "library": "var_list.py",
     "varRefreshCmd": "print(var_dic_list())"
    },
    "r": {
     "delete_cmd_postfix": ") ",
     "delete_cmd_prefix": "rm(",
     "library": "var_list.r",
     "varRefreshCmd": "cat(var_dic_list()) "
    }
   },
   "types_to_exclude": [
    "module",
    "function",
    "builtin_function_or_method",
    "instance",
    "_Feature"
   ],
   "window_display": false
  }
 },
 "nbformat": 4,
 "nbformat_minor": 4
}
